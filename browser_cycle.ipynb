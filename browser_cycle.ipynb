{
 "cells": [
  {
   "cell_type": "code",
   "execution_count": 2,
   "metadata": {},
   "outputs": [],
   "source": [
    "import webbrowser\n",
    "import os, signal\n",
    "import time\n",
    "\n",
    "def check_kill_process(pstring):\n",
    "    for line in os.popen(\"ps ax | grep \" + pstring + \" | grep -v grep\"):\n",
    "        fields = line.split()\n",
    "        pid = fields[0]\n",
    "    os.kill(int(pid), signal.SIGKILL)\n",
    "    \n",
    "alexa_top_25 = [\n",
    "             'http://www.google.com',\n",
    "             'http://www.youtube.com',\n",
    "#              'http://www.facebook.com',\n",
    "#              'http://www.baidu.com',\n",
    "#              'http://www.wikipedia.org',\n",
    "#              'http://www.yahoo.com',\n",
    "#              'http://www.reddit.com',\n",
    "#              'http://www.qq.com',\n",
    "#              'http://www.taobao.com',\n",
    "#              'http://amazon.com',\n",
    "#              'http://www.twitter.com',             \n",
    "#              'http://www.instagram.com', \n",
    "#              'http://www.tmall.com',\n",
    "#              'http://www.sohu.com',\n",
    "#              'http://www.live.com',\n",
    "#              'http://www.vk.com',\n",
    "#              'http://www.jd.com',\n",
    "#              'http://www.sina.com.cn',\n",
    "#              'http://www.weibo.com',\n",
    "#              'http://www.yandex.ru',\n",
    "#              'http://www.360.cn',\n",
    "#              'http://www.blogspot.com',\n",
    "#              'http://www.netflix.com',\n",
    "#              'http://www.login.tmall.com',\n",
    "#              'http://www.linkedin.com',\n",
    "#              'http://www.twitch.tv',\n",
    "#              'http://www.microsoft.com',\n",
    "#              'http://www.csdn.net',\n",
    "#              'http://www.bing.com',\n",
    "#              'http://www.alipay.com',\n",
    "#              'http://www.office.com',\n",
    "#              'http://www.msn.com ',\n",
    "#              'http://www.aliexpress.com'\n",
    "               ]\n",
    "    \n",
    "\n",
    "for x in range (1 ,10):                             \n",
    "    for y in alexa_top_25:\n",
    "        webbrowser.open(y)\n",
    "        time.sleep(15)\n",
    "        check_kill_process('firefox'')\n",
    "        time.sleep(5)\n",
    "\n",
    "\n",
    "\n",
    "\n",
    "\n",
    "    "
   ]
  },
  {
   "cell_type": "code",
   "execution_count": null,
   "metadata": {},
   "outputs": [],
   "source": []
  },
  {
   "cell_type": "code",
   "execution_count": null,
   "metadata": {},
   "outputs": [],
   "source": []
  },
  {
   "cell_type": "code",
   "execution_count": null,
   "metadata": {},
   "outputs": [],
   "source": []
  },
  {
   "cell_type": "code",
   "execution_count": null,
   "metadata": {},
   "outputs": [],
   "source": []
  }
 ],
 "metadata": {
  "kernelspec": {
   "display_name": "Python 3",
   "language": "python",
   "name": "python3"
  },
  "language_info": {
   "codemirror_mode": {
    "name": "ipython",
    "version": 3
   },
   "file_extension": ".py",
   "mimetype": "text/x-python",
   "name": "python",
   "nbconvert_exporter": "python",
   "pygments_lexer": "ipython3",
   "version": "3.6.4"
  }
 },
 "nbformat": 4,
 "nbformat_minor": 2
}
